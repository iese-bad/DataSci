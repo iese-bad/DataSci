{
 "cells": [
  {
   "cell_type": "markdown",
   "metadata": {},
   "source": [
    "\n",
    "# Market basket analysis at the grocery outlet\n",
    "\n",
    "### Introduction\n",
    "\n",
    "**Market basket analysis** tells us which products tend to be purchased together and which are most amenable to promotion. This information is actionable: it can suggest new store layouts, determine which articles to put on special, indicate when to issue coupons, and so on. When these data can be tied to individual customers through a loyalty card or website registration, they become even more valuable. The application of **association rules** to market basket analysis is a classic of data mining. \n",
    "\n",
    "In this example, a Chicago-based marketing analyst focusing on the retail industry explores different approaches for modeling consumer behavior using data on **point-of-sale transactions** in small stores of the Chicago metropolitan area. She starts with a market basket analysis of data from a typical local grocery outlet, where she intends to identify **joint occurrence** of products in shopping baskets.\n",
    "\n",
    "### The data set\n",
    "\n",
    "The `groceries` data set covers one month of point-of-sale **transaction data**. It contains 9,835 transactions and the items are aggregated to 169 categories. The data come as a **matrix transaction/item**: an entry equal to 1 in the intersection of row *i* and column column *j* indicates that transaction *i* includes item *j*. Note the **sparsity** of the data: there are only 43,367 nonzero entries, out of the 1,662,115 terms of this matrix (2.6%). So, this is an inefficient way of transporting the data, even if it can be used in this example to keep it simple.\n",
    "\n",
    "### Mining itemsets\n",
    "\n",
    "The analysis of this example is based on the function `apriori` of the R package `arules`. It is described as two steps: (a) extracting the most frequent itemsets, and (b) selecting association rules by support and confidence. This is done here for pedagogical purposes, although we do not always find these two steps separated in data mining software.\n",
    "\n",
    "I start by loading the package and the data."
   ]
  },
  {
   "cell_type": "code",
   "execution_count": 1,
   "metadata": {
    "collapsed": false
   },
   "outputs": [
    {
     "name": "stderr",
     "output_type": "stream",
     "text": [
      "Loading required package: Matrix\n",
      "\n",
      "Attaching package: ‘arules’\n",
      "\n",
      "The following objects are masked from ‘package:base’:\n",
      "\n",
      "    abbreviate, write\n",
      "\n"
     ]
    }
   ],
   "source": [
    "library(arules)"
   ]
  },
  {
   "cell_type": "code",
   "execution_count": 2,
   "metadata": {
    "collapsed": true
   },
   "outputs": [],
   "source": [
    "groceries = read.csv(\"https://raw.githubusercontent.com/iese-bad/DataSci/master/Data/groceries.csv\")"
   ]
  },
  {
   "cell_type": "markdown",
   "metadata": {},
   "source": [
    "Actually, `groceries` is a data frame, with 9,385 rows and 169 columns, as shown by"
   ]
  },
  {
   "cell_type": "code",
   "execution_count": 3,
   "metadata": {
    "collapsed": false
   },
   "outputs": [
    {
     "name": "stdout",
     "output_type": "stream",
     "text": [
      "[1] 9835  169\n"
     ]
    }
   ],
   "source": [
    "print(dim(groceries))"
   ]
  },
  {
   "cell_type": "markdown",
   "metadata": {},
   "source": [
    "The package `arules` deals with many data formats, including two proprietary ones, `transactions`, and `tidLists`. To keep it simple, I ignore these formats, coercing the data frame `groceries` into a (binary) matrix, which\n",
    "is also accepted by `apriori`."
   ]
  },
  {
   "cell_type": "code",
   "execution_count": 4,
   "metadata": {
    "collapsed": true
   },
   "outputs": [],
   "source": [
    "groceries = as.matrix(groceries)"
   ]
  },
  {
   "cell_type": "markdown",
   "metadata": {},
   "source": [
    "I start with the itemsets of size 1, filtering out the items that appear in less than 1% (trial-and-error approach) of the transactions. I specify this with the parameters `support`, `target`, `maxlen` and `minlen`. Do not pay much attention to the output that R is returning, except for the information that we have captured 88 items."
   ]
  },
  {
   "cell_type": "code",
   "execution_count": 5,
   "metadata": {
    "collapsed": false
   },
   "outputs": [
    {
     "name": "stdout",
     "output_type": "stream",
     "text": [
      "Apriori\n",
      "\n",
      "Parameter specification:\n",
      " confidence minval smax arem  aval originalSupport maxtime support minlen\n",
      "         NA    0.1    1 none FALSE            TRUE       5    0.01      1\n",
      " maxlen            target   ext\n",
      "      1 frequent itemsets FALSE\n",
      "\n",
      "Algorithmic control:\n",
      " filter tree heap memopt load sort verbose\n",
      "    0.1 TRUE TRUE  FALSE TRUE    2    TRUE\n",
      "\n",
      "Absolute minimum support count: 98 \n",
      "\n",
      "set item appearances ...[0 item(s)] done [0.00s].\n",
      "set transactions ...[169 item(s), 9835 transaction(s)] done [0.00s].\n",
      "sorting and recoding items ... [88 item(s)] done [0.00s].\n",
      "creating transaction tree ... done [0.00s].\n",
      "checking subsets of size 1"
     ]
    },
    {
     "name": "stderr",
     "output_type": "stream",
     "text": [
      "Warning message in apriori(groceries, parameter = list(support = 0.01, minlen = 1, :\n",
      "“Mining stopped (maxlen reached). Only patterns up to a length of 1 returned!”"
     ]
    },
    {
     "name": "stdout",
     "output_type": "stream",
     "text": [
      " done [0.01s].\n",
      "writing ... [88 set(s)] done [0.00s].\n",
      "creating S4 object  ... done [0.00s].\n"
     ]
    }
   ],
   "source": [
    "item1 = apriori(groceries, parameter=list(support=0.01, minlen=1, maxlen=1,\n",
    "    target='frequent itemsets'))"
   ]
  },
  {
   "cell_type": "markdown",
   "metadata": {},
   "source": [
    "I sort the items by support, picking the first 20. Here, `item1` is an object of the class `itemsets`. You do not need to understand what this really means. It is enough to look at the content, that is, to list the items, which can be done with the function `inspect`."
   ]
  },
  {
   "cell_type": "code",
   "execution_count": 6,
   "metadata": {
    "collapsed": false
   },
   "outputs": [
    {
     "name": "stdout",
     "output_type": "stream",
     "text": [
      "     items                   support   \n",
      "[1]  {whole_milk}            0.25551601\n",
      "[2]  {other_vegetables}      0.19349263\n",
      "[3]  {rolls_buns}            0.18393493\n",
      "[4]  {soda}                  0.17437722\n",
      "[5]  {yogurt}                0.13950178\n",
      "[6]  {bottled_water}         0.11052364\n",
      "[7]  {root_vegetables}       0.10899847\n",
      "[8]  {tropical_fruit}        0.10493137\n",
      "[9]  {shopping_bags}         0.09852567\n",
      "[10] {sausage}               0.09395018\n",
      "[11] {pastry}                0.08896797\n",
      "[12] {citrus_fruit}          0.08276563\n",
      "[13] {bottled_beer}          0.08052872\n",
      "[14] {newspapers}            0.07981698\n",
      "[15] {canned_beer}           0.07768175\n",
      "[16] {pip_fruit}             0.07564820\n",
      "[17] {fruit_vegetable_juice} 0.07229283\n",
      "[18] {whipped_sour_cream}    0.07168277\n",
      "[19] {brown_bread}           0.06487036\n",
      "[20] {domestic_eggs}         0.06344687\n"
     ]
    }
   ],
   "source": [
    "item1 = sort(item1, by='support')[1:20]\n",
    "inspect(item1)"
   ]
  },
  {
   "cell_type": "markdown",
   "metadata": {},
   "source": [
    "For the two-item itemsets, I set `maxlen` and `minlen` to 2, capturing 213 itemsets."
   ]
  },
  {
   "cell_type": "code",
   "execution_count": 7,
   "metadata": {
    "collapsed": false
   },
   "outputs": [
    {
     "name": "stdout",
     "output_type": "stream",
     "text": [
      "Apriori\n",
      "\n",
      "Parameter specification:\n",
      " confidence minval smax arem  aval originalSupport maxtime support minlen\n",
      "         NA    0.1    1 none FALSE            TRUE       5    0.01      2\n",
      " maxlen            target   ext\n",
      "      2 frequent itemsets FALSE\n",
      "\n",
      "Algorithmic control:\n",
      " filter tree heap memopt load sort verbose\n",
      "    0.1 TRUE TRUE  FALSE TRUE    2    TRUE\n",
      "\n",
      "Absolute minimum support count: 98 \n",
      "\n",
      "set item appearances ...[0 item(s)] done [0.00s].\n",
      "set transactions ...[169 item(s), 9835 transaction(s)] done [0.00s].\n",
      "sorting and recoding items ... [88 item(s)] done [0.00s].\n",
      "creating transaction tree ... done [0.00s].\n",
      "checking subsets of size 1 2"
     ]
    },
    {
     "name": "stderr",
     "output_type": "stream",
     "text": [
      "Warning message in apriori(groceries, parameter = list(support = 0.01, minlen = 2, :\n",
      "“Mining stopped (maxlen reached). Only patterns up to a length of 2 returned!”"
     ]
    },
    {
     "name": "stdout",
     "output_type": "stream",
     "text": [
      " done [0.01s].\n",
      "writing ... [213 set(s)] done [0.00s].\n",
      "creating S4 object  ... done [0.00s].\n"
     ]
    }
   ],
   "source": [
    "item2 = apriori(groceries, parameter=list(support=0.01, minlen=2, maxlen=2,\n",
    "    target='frequent itemsets'))"
   ]
  },
  {
   "cell_type": "markdown",
   "metadata": {},
   "source": [
    "Now, we apply `inspect` as we did above. We see in the report that the minimum support must be set at 0.03 to get at least 20 two-item itemsets (we need at least\n",
    "two items for a rule). "
   ]
  },
  {
   "cell_type": "code",
   "execution_count": 8,
   "metadata": {
    "collapsed": false
   },
   "outputs": [
    {
     "name": "stdout",
     "output_type": "stream",
     "text": [
      "     items                              support   \n",
      "[1]  {other_vegetables,whole_milk}      0.07483477\n",
      "[2]  {whole_milk,rolls_buns}            0.05663447\n",
      "[3]  {whole_milk,yogurt}                0.05602440\n",
      "[4]  {root_vegetables,whole_milk}       0.04890696\n",
      "[5]  {root_vegetables,other_vegetables} 0.04738180\n",
      "[6]  {other_vegetables,yogurt}          0.04341637\n",
      "[7]  {other_vegetables,rolls_buns}      0.04260295\n",
      "[8]  {tropical_fruit,whole_milk}        0.04229792\n",
      "[9]  {whole_milk,soda}                  0.04006101\n",
      "[10] {rolls_buns,soda}                  0.03833249\n",
      "[11] {tropical_fruit,other_vegetables}  0.03589222\n",
      "[12] {whole_milk,bottled_water}         0.03436706\n",
      "[13] {yogurt,rolls_buns}                0.03436706\n",
      "[14] {whole_milk,pastry}                0.03324860\n",
      "[15] {other_vegetables,soda}            0.03274021\n",
      "[16] {whole_milk,whipped_sour_cream}    0.03223183\n",
      "[17] {sausage,rolls_buns}               0.03060498\n",
      "[18] {citrus_fruit,whole_milk}          0.03050330\n",
      "[19] {pip_fruit,whole_milk}             0.03009659\n",
      "[20] {whole_milk,domestic_eggs}         0.02999492\n"
     ]
    }
   ],
   "source": [
    "item2 = sort(item2, by='support')[1:20]\n",
    "inspect(item2)"
   ]
  },
  {
   "cell_type": "markdown",
   "metadata": {},
   "source": [
    "For the 3-item itemsets, I set `maxlen` and `minlen` to 3, capturing 32 itemsets."
   ]
  },
  {
   "cell_type": "code",
   "execution_count": 9,
   "metadata": {
    "collapsed": false
   },
   "outputs": [
    {
     "name": "stdout",
     "output_type": "stream",
     "text": [
      "Apriori\n",
      "\n",
      "Parameter specification:\n",
      " confidence minval smax arem  aval originalSupport maxtime support minlen\n",
      "         NA    0.1    1 none FALSE            TRUE       5    0.01      3\n",
      " maxlen            target   ext\n",
      "      3 frequent itemsets FALSE\n",
      "\n",
      "Algorithmic control:\n",
      " filter tree heap memopt load sort verbose\n",
      "    0.1 TRUE TRUE  FALSE TRUE    2    TRUE\n",
      "\n",
      "Absolute minimum support count: 98 \n",
      "\n",
      "set item appearances ...[0 item(s)] done [0.00s].\n",
      "set transactions ...[169 item(s), 9835 transaction(s)] done [0.00s].\n",
      "sorting and recoding items ... [88 item(s)] done [0.00s].\n",
      "creating transaction tree ... done [0.00s].\n",
      "checking subsets of size 1 2 3"
     ]
    },
    {
     "name": "stderr",
     "output_type": "stream",
     "text": [
      "Warning message in apriori(groceries, parameter = list(support = 0.01, minlen = 3, :\n",
      "“Mining stopped (maxlen reached). Only patterns up to a length of 3 returned!”"
     ]
    },
    {
     "name": "stdout",
     "output_type": "stream",
     "text": [
      " done [0.01s].\n",
      "writing ... [32 set(s)] done [0.00s].\n",
      "creating S4 object  ... done [0.00s].\n"
     ]
    }
   ],
   "source": [
    "item3 = apriori(groceries, parameter=list(support=0.01, minlen=3, maxlen=3,\n",
    "    target='frequent itemsets'))"
   ]
  },
  {
   "cell_type": "markdown",
   "metadata": {},
   "source": [
    "I use again `inspect` to list the most frequent itemsets. Note that support is going down."
   ]
  },
  {
   "cell_type": "code",
   "execution_count": 10,
   "metadata": {
    "collapsed": false
   },
   "outputs": [
    {
     "name": "stdout",
     "output_type": "stream",
     "text": [
      "     items                                             support   \n",
      "[1]  {root_vegetables,other_vegetables,whole_milk}     0.02318251\n",
      "[2]  {other_vegetables,whole_milk,yogurt}              0.02226741\n",
      "[3]  {other_vegetables,whole_milk,rolls_buns}          0.01789527\n",
      "[4]  {tropical_fruit,other_vegetables,whole_milk}      0.01708185\n",
      "[5]  {whole_milk,yogurt,rolls_buns}                    0.01555669\n",
      "[6]  {tropical_fruit,whole_milk,yogurt}                0.01514997\n",
      "[7]  {other_vegetables,whole_milk,whipped_sour_cream}  0.01464159\n",
      "[8]  {root_vegetables,whole_milk,yogurt}               0.01453991\n",
      "[9]  {other_vegetables,whole_milk,soda}                0.01392984\n",
      "[10] {pip_fruit,other_vegetables,whole_milk}           0.01352313\n",
      "[11] {citrus_fruit,other_vegetables,whole_milk}        0.01301474\n",
      "[12] {root_vegetables,other_vegetables,yogurt}         0.01291307\n",
      "[13] {root_vegetables,whole_milk,rolls_buns}           0.01270971\n",
      "[14] {other_vegetables,whole_milk,domestic_eggs}       0.01230300\n",
      "[15] {tropical_fruit,root_vegetables,other_vegetables} 0.01230300\n",
      "[16] {tropical_fruit,other_vegetables,yogurt}          0.01230300\n",
      "[17] {root_vegetables,other_vegetables,rolls_buns}     0.01220132\n",
      "[18] {tropical_fruit,root_vegetables,whole_milk}       0.01199797\n",
      "[19] {other_vegetables,whole_milk,butter}              0.01148958\n",
      "[20] {other_vegetables,yogurt,rolls_buns}              0.01148958\n"
     ]
    }
   ],
   "source": [
    "item3 = sort(item3, by='support')[1:20]\n",
    "inspect(item3)"
   ]
  },
  {
   "cell_type": "markdown",
   "metadata": {},
   "source": [
    "### Mining rules\n",
    "\n",
    "Finally, I go for the rules. I set `target='rules'` and `confidence=0.25` (the default is 0.8, too high). Note that, here, instead of a minimum support, I am setting a minimum confidence, which makes more sense for rules. For the rules with one-item antecedent, I set `maxlen` and `minlen` to 2, capturing 96 rules. "
   ]
  },
  {
   "cell_type": "code",
   "execution_count": 11,
   "metadata": {
    "collapsed": false
   },
   "outputs": [
    {
     "name": "stdout",
     "output_type": "stream",
     "text": [
      "Apriori\n",
      "\n",
      "Parameter specification:\n",
      " confidence minval smax arem  aval originalSupport maxtime support minlen\n",
      "       0.25    0.1    1 none FALSE            TRUE       5    0.01      2\n",
      " maxlen target   ext\n",
      "      2  rules FALSE\n",
      "\n",
      "Algorithmic control:\n",
      " filter tree heap memopt load sort verbose\n",
      "    0.1 TRUE TRUE  FALSE TRUE    2    TRUE\n",
      "\n",
      "Absolute minimum support count: 98 \n",
      "\n",
      "set item appearances ...[0 item(s)] done [0.00s].\n",
      "set transactions ...[169 item(s), 9835 transaction(s)] done [0.01s].\n",
      "sorting and recoding items ... [88 item(s)] done [0.00s].\n",
      "creating transaction tree ... done [0.00s].\n",
      "checking subsets of size 1 2"
     ]
    },
    {
     "name": "stderr",
     "output_type": "stream",
     "text": [
      "Warning message in apriori(groceries, parameter = list(support = 0.01, confidence = 0.25, :\n",
      "“Mining stopped (maxlen reached). Only patterns up to a length of 2 returned!”"
     ]
    },
    {
     "name": "stdout",
     "output_type": "stream",
     "text": [
      " done [0.01s].\n",
      "writing ... [96 rule(s)] done [0.00s].\n",
      "creating S4 object  ... done [0.00s].\n"
     ]
    }
   ],
   "source": [
    "rules = apriori(groceries, parameter=list(support=0.01, confidence = 0.25, maxlen=2, minlen=2,\n",
    "    target='rules'))"
   ]
  },
  {
   "cell_type": "markdown",
   "metadata": {},
   "source": [
    "I sort the rules, now by confidence. `rules` is an object of the class `rules` (I don't discuss this). I use `inspect` to take a look at it."
   ]
  },
  {
   "cell_type": "code",
   "execution_count": 12,
   "metadata": {
    "collapsed": false
   },
   "outputs": [
    {
     "name": "stdout",
     "output_type": "stream",
     "text": [
      "     lhs                     rhs                support    confidence lift    \n",
      "[1]  {butter}             => {whole_milk}       0.02755465 0.4972477  1.946053\n",
      "[2]  {curd}               => {whole_milk}       0.02613116 0.4904580  1.919481\n",
      "[3]  {domestic_eggs}      => {whole_milk}       0.02999492 0.4727564  1.850203\n",
      "[4]  {onions}             => {other_vegetables} 0.01423488 0.4590164  2.372268\n",
      "[5]  {whipped_sour_cream} => {whole_milk}       0.03223183 0.4496454  1.759754\n",
      "[6]  {root_vegetables}    => {whole_milk}       0.04890696 0.4486940  1.756031\n",
      "[7]  {sugar}              => {whole_milk}       0.01504830 0.4444444  1.739400\n",
      "[8]  {hamburger_meat}     => {whole_milk}       0.01474326 0.4434251  1.735410\n",
      "[9]  {ham}                => {whole_milk}       0.01148958 0.4414062  1.727509\n",
      "[10] {sliced_cheese}      => {whole_milk}       0.01077783 0.4398340  1.721356\n",
      "[11] {root_vegetables}    => {other_vegetables} 0.04738180 0.4347015  2.246605\n",
      "[12] {frozen_vegetables}  => {whole_milk}       0.02043721 0.4249471  1.663094\n",
      "[13] {chicken}            => {other_vegetables} 0.01789527 0.4170616  2.155439\n",
      "[14] {hamburger_meat}     => {other_vegetables} 0.01382816 0.4159021  2.149447\n",
      "[15] {cream_cheese}       => {whole_milk}       0.01647178 0.4153846  1.625670\n",
      "[16] {butter_milk}        => {whole_milk}       0.01159126 0.4145455  1.622385\n",
      "[17] {margarine}          => {whole_milk}       0.02419929 0.4131944  1.617098\n",
      "[18] {hard_cheese}        => {whole_milk}       0.01006609 0.4107884  1.607682\n",
      "[19] {chicken}            => {whole_milk}       0.01759024 0.4099526  1.604411\n",
      "[20] {white_bread}        => {whole_milk}       0.01708185 0.4057971  1.588147\n"
     ]
    }
   ],
   "source": [
    "rules = sort(rules, by='confidence')[1:20]\n",
    "inspect(rules)"
   ]
  },
  {
   "cell_type": "markdown",
   "metadata": {},
   "source": [
    "### Source of the data\n",
    "\n",
    "M Haessler, K Hornik & T Reutterer (2006), Implications of probabilistic data modeling for mining association rules, in *From Data and Information Analysis to Knowledge Engineering*, Springer, pages 598-605."
   ]
  }
 ],
 "metadata": {
  "kernelspec": {
   "display_name": "R",
   "language": "R",
   "name": "ir"
  },
  "language_info": {
   "codemirror_mode": "r",
   "file_extension": ".r",
   "mimetype": "text/x-r-source",
   "name": "R",
   "pygments_lexer": "r",
   "version": "3.3.2"
  }
 },
 "nbformat": 4,
 "nbformat_minor": 2
}
