{
 "cells": [
  {
   "cell_type": "markdown",
   "metadata": {},
   "source": [
    "## Skills requested in Google job posts\n",
    "\n",
    "### Introduction\n",
    "\n",
    "There is a question in our mind that which **language, skills, and experience** should we add to our toolbox for getting a job in Google. Niyamat Ullah thought why not we find out the answer by analyzing the **Google Jobs Site**. Google published all of their jobs at `careers.google.com`. So he scraped all of the job data from that site by going every job page using a tool called **Selenium**, taking only the job title, location, responsibilities, minimum and preferred qualifications.\n",
    "\n",
    "The data set contains posts for 1,250 jobs. The variables are:\n",
    "\n",
    "* `company`: either Google or Youtube.\n",
    "\n",
    "* `title`: the title of the job.\n",
    "\n",
    "* `category`: the category of the job.\n",
    "\n",
    "* `location`: The location of the job.\n",
    "\n",
    "* `responsibilities`: the responsibilities for the job.\n",
    "\n",
    "* `minqual`: minimum qualifications for the job.\n",
    "\n",
    "* `prefqual`: preferred qualifications for the job.\n",
    "\n",
    "### Importing the data\n",
    "\n",
    "I load the CSV file with the data. The encoding is specified to prevent problems with systems which do not use UTF-8 (typically Windows). This is probably not needed here, but it may save trouble in other cases."
   ]
  },
  {
   "cell_type": "code",
   "execution_count": 1,
   "metadata": {},
   "outputs": [],
   "source": [
    "google = read.csv('https://raw.githubusercontent.com/iese-bad/DataSci/master/Data/skills_google.csv',\n",
    "    stringsAsFactors=FALSE, encoding='UTF-8')"
   ]
  },
  {
   "cell_type": "markdown",
   "metadata": {},
   "source": [
    "As usual, I check that the content of the file is that expected. Note that the longer strings (e.g. in the column `responsabilities`) are not fully printed."
   ]
  },
  {
   "cell_type": "code",
   "execution_count": 2,
   "metadata": {},
   "outputs": [
    {
     "name": "stdout",
     "output_type": "stream",
     "text": [
      "'data.frame':\t1250 obs. of  7 variables:\n",
      " $ company         : chr  \"Google\" \"Google\" \"Google\" \"Google\" ...\n",
      " $ title           : chr  \"Google Cloud Program Manager\" \"Supplier Development Engineer (SDE), Cable/Connector\" \"Data Analyst, Product and Tools Operations, Google Technical Services\" \"Developer Advocate, Partner Engineering\" ...\n",
      " $ category        : chr  \"Program Management\" \"Manufacturing & Supply Chain\" \"Technical Solutions\" \"Developer Relations\" ...\n",
      " $ location        : chr  \"Singapore\" \"Shanghai, China\" \"New York, NY, United States\" \"Mountain View, CA, United States\" ...\n",
      " $ responsibilities: chr  \"Shape, shepherd, ship, and show technical programs designed to support the work of Cloud Customer Engineers and\"| __truncated__ \"Drive cross-functional activities in the supply chain for overall Technical Operational readiness in all NPI ph\"| __truncated__ \"Collect and analyze data to draw insight and identify strategic solutions.\\nBuild consensus by facilitating bro\"| __truncated__ \"Work one-on-one with the top Android, iOS, and web engineers to build exciting new product/API integrations tha\"| __truncated__ ...\n",
      " $ minqual         : chr  \"BA/BS degree or equivalent practical experience.\\n3 years of experience in program and/or project management in\"| __truncated__ \"BS degree in an Engineering discipline or equivalent practical experience.\\n7 years of experience in Cable/Conn\"| __truncated__ \"Bachelor’s degree in Business, Economics, Statistics, Operations Research or related analytical field, or equiv\"| __truncated__ \"BA/BS degree in Computer Science or equivalent practical experience.\\nExperience working directly with partners\"| __truncated__ ...\n",
      " $ prefqual        : chr  \"Experience in the business technology market as a program manager in SaaS, cloud computing, and/or emerging tec\"| __truncated__ \"BSEE, BSME or BSIE degree.\\nExperience of using Statistics tools for Data analysis, e.g. distribution histogram\"| __truncated__ \"Experience partnering or consulting cross-functionally with senior stakeholders.\\nProficiency in a database que\"| __truncated__ \"Experience as a software developer, architect, technology advocate, CTO, or consultant working with web or mobi\"| __truncated__ ...\n"
     ]
    }
   ],
   "source": [
    "str(google)"
   ]
  },
  {
   "cell_type": "markdown",
   "metadata": {},
   "source": [
    "I also load the package `stringr`, whose functions I use in this example."
   ]
  },
  {
   "cell_type": "code",
   "execution_count": 3,
   "metadata": {},
   "outputs": [],
   "source": [
    "library(stringr)"
   ]
  },
  {
   "cell_type": "markdown",
   "metadata": {},
   "source": [
    "### Exploring the company\n",
    "\n",
    "I start my exploratory analysis by the company, which, in most of the jobs, is Google."
   ]
  },
  {
   "cell_type": "code",
   "execution_count": 4,
   "metadata": {},
   "outputs": [
    {
     "data": {
      "text/plain": [
       "\n",
       " Google YouTube \n",
       "   1227      23 "
      ]
     },
     "metadata": {},
     "output_type": "display_data"
    }
   ],
   "source": [
    "table(google[, 'company'])"
   ]
  },
  {
   "cell_type": "markdown",
   "metadata": {},
   "source": [
    "### Exploring the titles\n",
    "\n",
    "Many different titles are included in the data set. We extract the top-10 jobs."
   ]
  },
  {
   "cell_type": "code",
   "execution_count": 5,
   "metadata": {},
   "outputs": [
    {
     "name": "stdout",
     "output_type": "stream",
     "text": [
      "[1] 794\n"
     ]
    }
   ],
   "source": [
    "title = google[, 'title']\n",
    "print(length(unique(title)))"
   ]
  },
  {
   "cell_type": "code",
   "execution_count": 6,
   "metadata": {},
   "outputs": [
    {
     "data": {
      "text/plain": [
       "title\n",
       "                      Business Intern 2018 \n",
       "                                        35 \n",
       "                   MBA Intern, Summer 2018 \n",
       "                                        34 \n",
       "                           MBA Intern 2018 \n",
       "                                        28 \n",
       "                  BOLD Intern, Summer 2018 \n",
       "                                        21 \n",
       "  Field Sales Representative, Google Cloud \n",
       "                                        17 \n",
       "                      Interaction Designer \n",
       "                                        12 \n",
       "                User Experience Researcher \n",
       "                                         9 \n",
       "      Partner Sales Engineer, Google Cloud \n",
       "                                         7 \n",
       "                                 Recruiter \n",
       "                                         7 \n",
       "User Experience Design Intern, Summer 2018 \n",
       "                                         7 "
      ]
     },
     "metadata": {},
     "output_type": "display_data"
    }
   ],
   "source": [
    "sort(table(title), decreasing=TRUE)[1:10]"
   ]
  },
  {
   "cell_type": "markdown",
   "metadata": {},
   "source": [
    "Interns seems to dominate the picture, but, with 794 different titles, this quick view could be misleading. So, I check other possibilities. "
   ]
  },
  {
   "cell_type": "code",
   "execution_count": 7,
   "metadata": {},
   "outputs": [
    {
     "name": "stdout",
     "output_type": "stream",
     "text": [
      "[1] 187\n"
     ]
    }
   ],
   "source": [
    "print(sum(str_detect(title, 'Intern')))"
   ]
  },
  {
   "cell_type": "code",
   "execution_count": 8,
   "metadata": {},
   "outputs": [
    {
     "name": "stdout",
     "output_type": "stream",
     "text": [
      "[1] 135\n"
     ]
    }
   ],
   "source": [
    "print(sum(str_detect(title, 'Sales')))"
   ]
  },
  {
   "cell_type": "code",
   "execution_count": 9,
   "metadata": {},
   "outputs": [
    {
     "name": "stdout",
     "output_type": "stream",
     "text": [
      "[1] 277\n"
     ]
    }
   ],
   "source": [
    "print(sum(str_detect(title, 'Cloud')))"
   ]
  },
  {
   "cell_type": "code",
   "execution_count": 10,
   "metadata": {},
   "outputs": [
    {
     "name": "stdout",
     "output_type": "stream",
     "text": [
      "[1] 259\n"
     ]
    }
   ],
   "source": [
    "print(sum(str_detect(title, 'Google Cloud')))"
   ]
  },
  {
   "cell_type": "markdown",
   "metadata": {},
   "source": [
    "So far, the cloud dominates. To proceed more systematically, I extract a list of most frequent tokens. Previous to the extraction, I clean the data deleting all the expressions within parenthesis. I use the function `str_replace_all` with the **regular expression** ` [(].+[)]`. \n",
    "\n",
    "Some technicalities about this regular expression: \n",
    "\n",
    "1. In a regular expression, the parentheses is used for grouping pieces of text. To refer to the parentheses temselves, I use the square brackets.\n",
    "\n",
    "2. The dot (.) stands for any character.\n",
    "\n",
    "3. The plus sign (+) is a **quantifier**, meaning any number of occurrences."
   ]
  },
  {
   "cell_type": "code",
   "execution_count": 11,
   "metadata": {},
   "outputs": [],
   "source": [
    "title_short = str_replace_all(title, ' [(].+[)]', '')"
   ]
  },
  {
   "cell_type": "markdown",
   "metadata": {},
   "source": [
    "Now, I split the composite titles, which have two parts separated by a comma. Since `str_split` returns a list, I use `unlist` to get a vector. I get 886 different tokens."
   ]
  },
  {
   "cell_type": "code",
   "execution_count": 12,
   "metadata": {},
   "outputs": [
    {
     "name": "stdout",
     "output_type": "stream",
     "text": [
      "[1] 886\n"
     ]
    }
   ],
   "source": [
    "title_terms = unlist(str_split(title_short, ', '))\n",
    "print(length(unique(title_terms)))"
   ]
  },
  {
   "cell_type": "markdown",
   "metadata": {},
   "source": [
    "Most of the jobs are for Google Cloud or for interns. The sales jobs seem to be very scattered, with many different titles."
   ]
  },
  {
   "cell_type": "code",
   "execution_count": 13,
   "metadata": {},
   "outputs": [
    {
     "data": {
      "text/plain": [
       "title_terms\n",
       "              Google Cloud                Summer 2018 \n",
       "                       206                         76 \n",
       "      Business Intern 2018                 MBA Intern \n",
       "                        51                         34 \n",
       "           MBA Intern 2018  Google Technical Services \n",
       "                        32                         31 \n",
       "         Consumer Hardware Field Sales Representative \n",
       "                        27                         26 \n",
       "     Google Cloud Platform  Product Marketing Manager \n",
       "                        25                         23 "
      ]
     },
     "metadata": {},
     "output_type": "display_data"
    }
   ],
   "source": [
    "sort(table(title_terms), decreasing=TRUE)[1:10]"
   ]
  },
  {
   "cell_type": "markdown",
   "metadata": {},
   "source": [
    "### Exploring categories\n",
    "\n",
    "I apply the same approach for categories. In the end, most of the jobs do not seem to call for techies."
   ]
  },
  {
   "cell_type": "code",
   "execution_count": 14,
   "metadata": {},
   "outputs": [
    {
     "data": {
      "text/plain": [
       "\n",
       "      Sales & Account Management       Marketing & Communications \n",
       "                             168                              165 \n",
       "                         Finance              Technical Solutions \n",
       "                             115                              101 \n",
       "               Business Strategy                People Operations \n",
       "                              98                               86 \n",
       "        User Experience & Design               Program Management \n",
       "                              84                               74 \n",
       "                    Partnerships       Product & Customer Support \n",
       "                              60                               50 \n",
       "    Legal & Government Relations                   Administrative \n",
       "                              46                               40 \n",
       "                Sales Operations             Software Engineering \n",
       "                              31                               31 \n",
       "            Hardware Engineering Real Estate & Workplace Services \n",
       "                              26                               25 \n",
       "    Manufacturing & Supply Chain         Technical Infrastructure \n",
       "                              16                               11 \n",
       "             Network Engineering              Developer Relations \n",
       "                               6                                5 \n",
       "            IT & Data Management                Technical Writing \n",
       "                               5                                5 \n",
       "           Data Center & Network \n",
       "                               2 "
      ]
     },
     "metadata": {},
     "output_type": "display_data"
    }
   ],
   "source": [
    "sort(table(google[, 'category']), decreasing=TRUE)"
   ]
  },
  {
   "cell_type": "markdown",
   "metadata": {},
   "source": [
    "### Exploring countries\n",
    "\n",
    "I extract the country from the location. The location has two or three components, separated by the string ', '. So I have to drop all the characters that come before the last occurrence of that string. I use `str_replace_all` and a regular expression which stands for the string to be suppressed. The trick is to use an expression which stands for any string ending by a comma followed by white space. "
   ]
  },
  {
   "cell_type": "code",
   "execution_count": 15,
   "metadata": {},
   "outputs": [
    {
     "name": "stdout",
     "output_type": "stream",
     "text": [
      "[1] 49\n"
     ]
    }
   ],
   "source": [
    "country = str_replace_all(google[, 'location'], '.+,', '')\n",
    "print(length(unique(country)))"
   ]
  },
  {
   "cell_type": "markdown",
   "metadata": {},
   "source": [
    "There are 49 countries but, as we see next, most of the job requests are for US."
   ]
  },
  {
   "cell_type": "code",
   "execution_count": 16,
   "metadata": {},
   "outputs": [
    {
     "data": {
      "text/plain": [
       "country\n",
       "  United States         Ireland  United Kingdom         Germany       Singapore \n",
       "            638              87              62              54              41 \n",
       "          China       Australia           Japan          Taiwan           India \n",
       "             38              35              31              30              28 "
      ]
     },
     "metadata": {},
     "output_type": "display_data"
    }
   ],
   "source": [
    "sort(table(country), decreasing=TRUE)[1:10]"
   ]
  },
  {
   "cell_type": "markdown",
   "metadata": {},
   "source": [
    "### Exploring responsibilities\n",
    "\n",
    "To explore the content of responsibilities column, I put first everything in **lowercase**. "
   ]
  },
  {
   "cell_type": "code",
   "execution_count": 17,
   "metadata": {},
   "outputs": [
    {
     "name": "stdout",
     "output_type": "stream",
     "text": [
      "[1] \"shape, shepherd, ship, and show technical programs designed to support the work of cloud customer engineers and solutions architects.\\nmeasure and report on key metrics tied to those programs to identify any need to change course, cancel, or scale the programs from a regional to global platform.\\ncommunicate status and identify any obstacles and paths for resolution to stakeholders, including those in senior roles, in a transparent, regular, professional and timely manner.\\nestablish expectations and rationale on deliverables for stakeholders and program contributors.\\nprovide program performance feedback to teams in product, engineering, sales, and marketing (among others) to enable efficient cross-team operations.\"\n"
     ]
    }
   ],
   "source": [
    "resp = google[, 'responsibilities']\n",
    "resp = str_to_lower(resp)\n",
    "print(resp[1])"
   ]
  },
  {
   "cell_type": "markdown",
   "metadata": {},
   "source": [
    "Next, I extract the words. This will leave out **punctuation** and the **control character** '\\n', which means new line, and is used to separate paragraphs. I use `str_extract_all` and a regular expression that stands for any word. `str_extract_all` returns a list, every term of which is a **bag of words**, that is, a vector whose elements are words."
   ]
  },
  {
   "cell_type": "code",
   "execution_count": 18,
   "metadata": {},
   "outputs": [
    {
     "name": "stdout",
     "output_type": "stream",
     "text": [
      "[1] TRUE\n"
     ]
    }
   ],
   "source": [
    "resp_terms = str_extract_all(resp, '[a-z]+')\n",
    "print(is.list(resp_terms))"
   ]
  },
  {
   "cell_type": "code",
   "execution_count": 19,
   "metadata": {},
   "outputs": [
    {
     "name": "stdout",
     "output_type": "stream",
     "text": [
      "  [1] \"shape\"        \"shepherd\"     \"ship\"         \"and\"          \"show\"        \n",
      "  [6] \"technical\"    \"programs\"     \"designed\"     \"to\"           \"support\"     \n",
      " [11] \"the\"          \"work\"         \"of\"           \"cloud\"        \"customer\"    \n",
      " [16] \"engineers\"    \"and\"          \"solutions\"    \"architects\"   \"measure\"     \n",
      " [21] \"and\"          \"report\"       \"on\"           \"key\"          \"metrics\"     \n",
      " [26] \"tied\"         \"to\"           \"those\"        \"programs\"     \"to\"          \n",
      " [31] \"identify\"     \"any\"          \"need\"         \"to\"           \"change\"      \n",
      " [36] \"course\"       \"cancel\"       \"or\"           \"scale\"        \"the\"         \n",
      " [41] \"programs\"     \"from\"         \"a\"            \"regional\"     \"to\"          \n",
      " [46] \"global\"       \"platform\"     \"communicate\"  \"status\"       \"and\"         \n",
      " [51] \"identify\"     \"any\"          \"obstacles\"    \"and\"          \"paths\"       \n",
      " [56] \"for\"          \"resolution\"   \"to\"           \"stakeholders\" \"including\"   \n",
      " [61] \"those\"        \"in\"           \"senior\"       \"roles\"        \"in\"          \n",
      " [66] \"a\"            \"transparent\"  \"regular\"      \"professional\" \"and\"         \n",
      " [71] \"timely\"       \"manner\"       \"establish\"    \"expectations\" \"and\"         \n",
      " [76] \"rationale\"    \"on\"           \"deliverables\" \"for\"          \"stakeholders\"\n",
      " [81] \"and\"          \"program\"      \"contributors\" \"provide\"      \"program\"     \n",
      " [86] \"performance\"  \"feedback\"     \"to\"           \"teams\"        \"in\"          \n",
      " [91] \"product\"      \"engineering\"  \"sales\"        \"and\"          \"marketing\"   \n",
      " [96] \"among\"        \"others\"       \"to\"           \"enable\"       \"efficient\"   \n",
      "[101] \"cross\"        \"team\"         \"operations\"  \n"
     ]
    }
   ],
   "source": [
    "print(resp_terms[[1]])"
   ]
  },
  {
   "cell_type": "markdown",
   "metadata": {},
   "source": [
    "I join all the terms collected in the 1250 bags of words in a single vector using `unlist`."
   ]
  },
  {
   "cell_type": "code",
   "execution_count": 20,
   "metadata": {},
   "outputs": [
    {
     "name": "stdout",
     "output_type": "stream",
     "text": [
      "[1] TRUE\n"
     ]
    }
   ],
   "source": [
    "resp_terms = unlist(resp_terms)\n",
    "print(is.vector(resp_terms))"
   ]
  },
  {
   "cell_type": "markdown",
   "metadata": {},
   "source": [
    "This leaves me with a vector which contains 3,824 different terms."
   ]
  },
  {
   "cell_type": "code",
   "execution_count": 21,
   "metadata": {},
   "outputs": [
    {
     "name": "stdout",
     "output_type": "stream",
     "text": [
      "[1] 3824\n"
     ]
    }
   ],
   "source": [
    "print(length(unique(resp_terms)))"
   ]
  },
  {
   "cell_type": "code",
   "execution_count": 22,
   "metadata": {},
   "outputs": [
    {
     "data": {
      "text/plain": [
       "resp_terms\n",
       "          and            to           the            of          with \n",
       "         9457          4303          2668          2233          2182 \n",
       "          for        google            in      business             a \n",
       "         1372          1292          1247          1218          1185 \n",
       "      product            on       develop         teams          work \n",
       "          968           870           779           768           755 \n",
       "           as          team      partners     technical        manage \n",
       "          712           660           633           606           596 \n",
       "     customer           our          that       partner       support \n",
       "          561           536           517           516           489 \n",
       "      provide         drive         sales         cloud    management \n",
       "          478           474           473           441           440 \n",
       "            s         their     customers          data     including \n",
       "          426           424           423           420           399 \n",
       "    marketing           new     strategic      identify     solutions \n",
       "          394           385           384           380           371 \n",
       "       design         build          lead   development opportunities \n",
       "          364           359           359           344           344 \n",
       "     strategy            by         cross        across      products \n",
       "          344           343           341           337           336 "
      ]
     },
     "metadata": {},
     "output_type": "display_data"
    }
   ],
   "source": [
    "sort(table(resp_terms), decreasing=TRUE)[1:50]"
   ]
  },
  {
   "cell_type": "markdown",
   "metadata": {},
   "source": [
    "Most of these terms are **stopwords**, that is, words that do not contain relevant information (and, to, the, etc). The leading topics seem to be development, teams and partners. To get a better picture, I should continue the analysis by dropping the stopwords and merging **synonyms** (such as \"team\" and \"teams\"). I stop here."
   ]
  },
  {
   "cell_type": "markdown",
   "metadata": {},
   "source": [
    "### Exploring minimum qualifications\n",
    "\n",
    "The analysis of the minimum qualifications follows the same lines."
   ]
  },
  {
   "cell_type": "code",
   "execution_count": 23,
   "metadata": {},
   "outputs": [
    {
     "name": "stdout",
     "output_type": "stream",
     "text": [
      "[1] \"ba/bs degree or equivalent practical experience.\\n3 years of experience in program and/or project management in cloud computing, enterprise software and/or marketing technologies.\"\n"
     ]
    }
   ],
   "source": [
    "minqual = google[, 'minqual']\n",
    "minqual = str_to_lower(minqual)\n",
    "print(minqual[1])"
   ]
  },
  {
   "cell_type": "code",
   "execution_count": 24,
   "metadata": {},
   "outputs": [
    {
     "name": "stdout",
     "output_type": "stream",
     "text": [
      "[1] 1920\n"
     ]
    }
   ],
   "source": [
    "minqual_terms = str_extract_all(minqual, '[a-z]+')\n",
    "minqual_terms = unlist(minqual_terms)\n",
    "print(length(unique(minqual_terms)))"
   ]
  },
  {
   "cell_type": "code",
   "execution_count": 25,
   "metadata": {},
   "outputs": [
    {
     "data": {
      "text/plain": [
       "minqual_terms\n",
       "   experience            or            in           and             a \n",
       "         3036          2478          2400          2304          1231 \n",
       "           of    equivalent        degree     practical            to \n",
       "         1110          1063          1059           993           928 \n",
       "           bs            ba         years          with           the \n",
       "          879           838           722           718           611 \n",
       "   management       ability         field       related       working \n",
       "          413           363           341           321           313 \n",
       "      program            as       english         speak      fluently \n",
       "          305           292           286           281           280 \n",
       "idiomatically       science         write      computer     technical \n",
       "          278           276           276           273           265 \n",
       "            s            be   engineering            an         sales \n",
       "          249           248           237           233           219 \n",
       "         work      business          time          data   development \n",
       "          214           201           199           197           182 \n",
       "         full            on        design      software      bachelor \n",
       "          177           173           165           165           164 \n",
       "        cloud     marketing            at      relevant          role \n",
       "          164           160           157           154           151 "
      ]
     },
     "metadata": {},
     "output_type": "display_data"
    }
   ],
   "source": [
    "sort(table(minqual_terms), decreasing=TRUE)[1:50]"
   ]
  },
  {
   "cell_type": "markdown",
   "metadata": {},
   "source": [
    "Bad news here for the starters, experience is the main thing. I check how often are mentioned the leading programming languages. Not much."
   ]
  },
  {
   "cell_type": "code",
   "execution_count": 26,
   "metadata": {},
   "outputs": [
    {
     "name": "stdout",
     "output_type": "stream",
     "text": [
      "[1] 85\n"
     ]
    }
   ],
   "source": [
    "print(sum(str_detect(minqual_terms, 'sql')))"
   ]
  },
  {
   "cell_type": "code",
   "execution_count": 27,
   "metadata": {},
   "outputs": [
    {
     "name": "stdout",
     "output_type": "stream",
     "text": [
      "[1] 77\n"
     ]
    }
   ],
   "source": [
    "print(sum(str_detect(minqual_terms, 'javascript')))"
   ]
  },
  {
   "cell_type": "code",
   "execution_count": 28,
   "metadata": {},
   "outputs": [
    {
     "name": "stdout",
     "output_type": "stream",
     "text": [
      "[1] 97\n"
     ]
    }
   ],
   "source": [
    "print(sum(str_detect(minqual_terms, 'python')))"
   ]
  },
  {
   "cell_type": "markdown",
   "metadata": {},
   "source": [
    "### Exploring preferred qualifications"
   ]
  },
  {
   "cell_type": "code",
   "execution_count": 29,
   "metadata": {},
   "outputs": [
    {
     "name": "stdout",
     "output_type": "stream",
     "text": [
      "[1] \"experience in the business technology market as a program manager in saas, cloud computing, and/or emerging technologies.\\nsignificant cross-functional experience across engineering, sales, and marketing teams in cloud computing or related technical fields.\\nproven successful program outcomes from idea to launch in multiple contexts throughout your career.\\nability to manage the expectations, demands and priorities of multiple internal stakeholders based on overarching vision and success for global team health.\\nability to work under pressure and possess flexibility with changing needs and direction in a rapidly-growing organization.\\nstrong organization and communication skills.\"\n"
     ]
    }
   ],
   "source": [
    "prefqual = google[, 'prefqual']\n",
    "prefqual = str_to_lower(prefqual)\n",
    "print(prefqual[1])"
   ]
  },
  {
   "cell_type": "code",
   "execution_count": 30,
   "metadata": {},
   "outputs": [
    {
     "name": "stdout",
     "output_type": "stream",
     "text": [
      "[1] 3205\n"
     ]
    }
   ],
   "source": [
    "prefqual_terms = str_extract_all(prefqual, '[a-z]+')\n",
    "prefqual_terms = unlist(prefqual_terms)\n",
    "print(length(unique(prefqual_terms)))"
   ]
  },
  {
   "cell_type": "code",
   "execution_count": 31,
   "metadata": {},
   "outputs": [
    {
     "data": {
      "text/plain": [
       "prefqual_terms\n",
       "           and             to             in           with     experience \n",
       "          6496           2991           2501           2419           2308 \n",
       "       ability             of              a         skills             or \n",
       "          1856           1655           1654           1461           1432 \n",
       "           the     management       business   demonstrated             as \n",
       "          1379            720            680            640            582 \n",
       "     excellent           work  communication    environment      technical \n",
       "           570            549            546            520            476 \n",
       "        strong     analytical        working          cloud           data \n",
       "           472            446            440            395            394 \n",
       "           for      knowledge     technology          sales  understanding \n",
       "           389            371            371            359            326 \n",
       "             s      effective        project         google         degree \n",
       "           324            323            314            312            310 \n",
       "            on             an        related        complex         design \n",
       "           303            302            290            286            286 \n",
       " interpersonal      marketing       customer        written          cross \n",
       "           286            278            272            272            265 \n",
       "organizational      strategic          teams       multiple  relationships \n",
       "           256            251            249            245            245 "
      ]
     },
     "metadata": {},
     "output_type": "display_data"
    }
   ],
   "source": [
    "sort(table(prefqual_terms), decreasing=TRUE)[1:50]"
   ]
  },
  {
   "cell_type": "markdown",
   "metadata": {},
   "source": [
    "Now it is experience and ability. No news about the languages. "
   ]
  },
  {
   "cell_type": "code",
   "execution_count": 32,
   "metadata": {},
   "outputs": [
    {
     "name": "stdout",
     "output_type": "stream",
     "text": [
      "[1] 84\n"
     ]
    }
   ],
   "source": [
    "print(sum(str_detect(prefqual_terms, 'sql')))"
   ]
  },
  {
   "cell_type": "code",
   "execution_count": 33,
   "metadata": {},
   "outputs": [
    {
     "name": "stdout",
     "output_type": "stream",
     "text": [
      "[1] 66\n"
     ]
    }
   ],
   "source": [
    "print(sum(str_detect(prefqual_terms, 'javascript')))"
   ]
  },
  {
   "cell_type": "code",
   "execution_count": 34,
   "metadata": {},
   "outputs": [
    {
     "name": "stdout",
     "output_type": "stream",
     "text": [
      "[1] 79\n"
     ]
    }
   ],
   "source": [
    "print(sum(str_detect(prefqual_terms, 'python')))"
   ]
  }
 ],
 "metadata": {
  "kernelspec": {
   "display_name": "R",
   "language": "R",
   "name": "ir"
  },
  "language_info": {
   "codemirror_mode": "r",
   "file_extension": ".r",
   "mimetype": "text/x-r-source",
   "name": "R",
   "pygments_lexer": "r",
   "version": "3.5.0"
  }
 },
 "nbformat": 4,
 "nbformat_minor": 2
}
